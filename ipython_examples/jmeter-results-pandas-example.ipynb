{
 "cells": [
  {
   "cell_type": "code",
   "execution_count": null,
   "metadata": {
    "collapsed": true
   },
   "outputs": [],
   "source": [
    "# import pandas as pd\n",
    "import numpy as np\n",
    "import seaborn as sns\n",
    "import matplotlib.pyplot as plt\n",
    "plt.style.use('ggplot')\n",
    "import os\n",
    "from numpy.polynomial import Polynomial"
   ]
  },
  {
   "cell_type": "code",
   "execution_count": 2,
   "metadata": {
    "collapsed": true
   },
   "outputs": [],
   "source": [
    "#Variables\n",
    "FILE_PATH = '/example/'\n",
    "FILE_NAME = 'example.csv'"
   ]
  },
  {
   "cell_type": "code",
   "execution_count": 3,
   "metadata": {},
   "outputs": [
    {
    }
   ],
   "source": [
    "#Load jmeter csv as a dataframe\n",
    "df = pd.read_csv(FILE_PATH + FILE_NAME , header=0, index_col=[0], error_bad_lines=False)\n",
    "df.index = pd.to_datetime(df.index.values, unit='ms')\n",
    "jmeter = df"
   ]
  },
  {
   "cell_type": "code",
   "execution_count": 4,
   "metadata": {},
   "outputs": [
    {
    }
   ],
   "source": [
    "#Clean\n",
    "\n",
    "#jmeter = jmeter[jmeter.success != 0] #remove failed executions\n",
    "#jmeter = jmeter.replace('null', 0.0)\n",
    "#jmeter = jmeter.replace('None Found', 0.0)\n",
    "#jmeter = jmeter.fillna(0.0)\n",
    "\n",
    "jmeter_cleaned = jmeter"
   ]
  },
  {
   "cell_type": "code",
   "execution_count": null,
   "metadata": {
    "collapsed": true
   },
   "outputs": [],
   "source": []
  }
 ],
 "metadata": {
  "kernelspec": {
   "display_name": "Python 3",
   "language": "python",
   "name": "python3"
  },
  "language_info": {
   "codemirror_mode": {
    "name": "ipython",
    "version": 3
   },
   "file_extension": ".py",
   "mimetype": "text/x-python",
   "name": "python",
   "nbconvert_exporter": "python",
   "pygments_lexer": "ipython3",
   "version": "3.6.0"
  }
 },
 "nbformat": 4,
 "nbformat_minor": 2
}
